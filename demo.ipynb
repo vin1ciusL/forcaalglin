{
 "cells": [
  {
   "cell_type": "markdown",
   "metadata": {},
   "source": [
    "Importando as bibliotecas"
   ]
  },
  {
   "cell_type": "code",
   "execution_count": 1,
   "metadata": {},
   "outputs": [],
   "source": [
    "import random\n",
    "import requests\n",
    "from collections import Counter\n",
    "from math import log2"
   ]
  },
  {
   "cell_type": "markdown",
   "metadata": {},
   "source": [
    "Inicializa jogo de forca"
   ]
  },
  {
   "cell_type": "code",
   "execution_count": 2,
   "metadata": {},
   "outputs": [],
   "source": [
    "class JogoDeForca:\n",
    "    def __init__(self):\n",
    "        url = 'https://www.ime.usp.br/~pf/dicios/br-sem-acentos.txt'\n",
    "        r = requests.get(url, allow_redirects=True)\n",
    "        if r.status_code==200:\n",
    "            self.content = str(r.content.decode()).split('\\n')\n",
    "        else:\n",
    "            print(\"Erro: \", r.status_code)\n",
    "     \n",
    "    def novo_jogo(self, vidas=5):\n",
    "        self.vidas = vidas\n",
    "        self.palavra = random.choice(self.content)\n",
    "        return len(self.palavra)\n",
    "\n",
    "    def tentar_letra(self, letra):\n",
    "        if self.vidas > 0:\n",
    "            if letra in self.palavra:\n",
    "                return [idx for idx in range(len(self.palavra)) if self.palavra[idx]==letra]\n",
    "            else:\n",
    "                self.vidas -= 1\n",
    "                if self.vidas == 0:\n",
    "                    print(\"Fim de jogo!\")\n",
    "                    return False\n",
    "                else:\n",
    "                    return []\n",
    "         \n",
    "    def tentar_palavra(self, palavra):\n",
    "        if self.vidas > 0:\n",
    "            if self.palavra == palavra:\n",
    "                print (\"Ganhou!\")\n",
    "                return True\n",
    "            else:\n",
    "                self.vidas = 0\n",
    "                print(\"Fim de jogo!\")\n",
    "                return False"
   ]
  },
  {
   "cell_type": "markdown",
   "metadata": {},
   "source": [
    "Cria Jogador Automático"
   ]
  },
  {
   "cell_type": "code",
   "execution_count": 3,
   "metadata": {},
   "outputs": [],
   "source": [
    "class JogadorAutomatico:\n",
    "    def __init__(self):\n",
    "        url = 'https://www.ime.usp.br/~pf/dicios/br-sem-acentos.txt'\n",
    "        r = requests.get(url, allow_redirects=True)\n",
    "        if r.status_code == 200:\n",
    "            self.vocabulario = str(r.content.decode()).split('\\n')\n",
    "        else:\n",
    "            raise Exception(\"Erro ao carregar o vocabulário\")\n",
    "\n",
    "    def calcular_frequencias(self, palavras):\n",
    "        letras = Counter(\"\".join(palavras))\n",
    "        total = sum(letras.values())\n",
    "        return {letra: count / total for letra, count in letras.items()}\n",
    "\n",
    "    def calcular_entropia(self, palavras, letra):\n",
    "        total = len(palavras)\n",
    "        if total == 0:\n",
    "            return 0\n",
    "        contem_letra = sum([1 for palavra in palavras if letra in palavra])\n",
    "        p_contem = contem_letra / total\n",
    "        p_nao_contem = 1 - p_contem\n",
    "        entropia = 0\n",
    "        if p_contem > 0:\n",
    "            entropia -= p_contem * log2(p_contem)\n",
    "        if p_nao_contem > 0:\n",
    "            entropia -= p_nao_contem * log2(p_nao_contem)\n",
    "        return entropia\n",
    "\n",
    "    def escolher_proxima_letra(self, palavras_candidatas, letras_escolhidas):\n",
    "        frequencias = self.calcular_frequencias(palavras_candidatas)\n",
    "        letras_validas = [letra for letra in frequencias if letra not in letras_escolhidas]\n",
    "        entropias = {letra: self.calcular_entropia(palavras_candidatas, letra) for letra in letras_validas}\n",
    "        return max(entropias, key=entropias.get)\n",
    "\n",
    "    def filtrar_palavras(self, palavras, letra, indices):\n",
    "        if indices:\n",
    "            return [palavra for palavra in palavras if all(palavra[i] == letra for i in indices)]\n",
    "        return [palavra for palavra in palavras if letra not in palavra]\n",
    "\n",
    "    def jogar(self, jogo):\n",
    "        tentativas = set()\n",
    "        tamanho_palavra = jogo.novo_jogo()\n",
    "        palavras_candidatas = [p for p in self.vocabulario if len(p) == tamanho_palavra]\n",
    "\n",
    "        while jogo.vidas > 0:\n",
    "            letra = self.escolher_proxima_letra(palavras_candidatas, tentativas)\n",
    "            tentativas.add(letra)\n",
    "            indices = jogo.tentar_letra(letra)\n",
    "            if indices is False:\n",
    "                break\n",
    "            palavras_candidatas = self.filtrar_palavras(palavras_candidatas, letra, indices)\n",
    "            if len(palavras_candidatas) == 1:\n",
    "                return jogo.tentar_palavra(palavras_candidatas[0])\n",
    "\n",
    "        return False\n"
   ]
  },
  {
   "cell_type": "markdown",
   "metadata": {},
   "source": [
    "Jogo Automático"
   ]
  },
  {
   "cell_type": "code",
   "execution_count": 4,
   "metadata": {},
   "outputs": [],
   "source": [
    "# Inicializa as classes de jogo e jogador\n",
    "jogo = JogoDeForca()\n",
    "jogador = JogadorAutomatico()"
   ]
  },
  {
   "cell_type": "markdown",
   "metadata": {},
   "source": [
    "Uma partida\n"
   ]
  },
  {
   "cell_type": "code",
   "execution_count": 5,
   "metadata": {},
   "outputs": [
    {
     "name": "stdout",
     "output_type": "stream",
     "text": [
      "Ganhou!\n",
      "O jogador venceu o jogo!\n",
      "Vidas restantes: 3\n"
     ]
    }
   ],
   "source": [
    "# Executa uma partida automática\n",
    "resultado = jogador.jogar(jogo)\n",
    "\n",
    "# Exibe o resultado da partida\n",
    "if resultado:\n",
    "    print(\"O jogador venceu o jogo!\")\n",
    "else:\n",
    "    print(\"O jogador perdeu o jogo!\")\n",
    "print(\"Vidas restantes:\", jogo.vidas)\n"
   ]
  },
  {
   "cell_type": "markdown",
   "metadata": {},
   "source": [
    "Multiplas Partidas"
   ]
  },
  {
   "cell_type": "code",
   "execution_count": 8,
   "metadata": {},
   "outputs": [
    {
     "name": "stdout",
     "output_type": "stream",
     "text": [
      "Ganhou!\n",
      "Ganhou!\n",
      "Ganhou!\n",
      "Ganhou!\n",
      "Ganhou!\n",
      "Ganhou!\n",
      "Ganhou!\n",
      "Ganhou!\n",
      "Fim de jogo!\n",
      "Fim de jogo!\n",
      "Fim de jogo!\n",
      "Ganhou!\n",
      "Ganhou!\n",
      "Fim de jogo!\n",
      "Ganhou!\n",
      "Ganhou!\n",
      "Fim de jogo!\n",
      "Ganhou!\n",
      "Fim de jogo!\n",
      "Ganhou!\n",
      "Ganhou!\n",
      "Fim de jogo!\n",
      "Ganhou!\n",
      "Fim de jogo!\n",
      "Fim de jogo!\n",
      "Ganhou!\n",
      "Fim de jogo!\n",
      "Ganhou!\n",
      "Fim de jogo!\n",
      "Ganhou!\n",
      "Ganhou!\n",
      "Fim de jogo!\n",
      "Ganhou!\n",
      "Ganhou!\n",
      "Ganhou!\n",
      "Ganhou!\n",
      "Ganhou!\n",
      "Ganhou!\n",
      "Ganhou!\n",
      "Fim de jogo!\n",
      "Ganhou!\n",
      "Ganhou!\n",
      "Ganhou!\n",
      "Ganhou!\n",
      "Fim de jogo!\n",
      "Fim de jogo!\n",
      "Fim de jogo!\n",
      "Ganhou!\n",
      "Ganhou!\n",
      "Ganhou!\n",
      "Ganhou!\n",
      "Ganhou!\n",
      "Fim de jogo!\n",
      "Ganhou!\n",
      "Ganhou!\n",
      "Fim de jogo!\n",
      "Fim de jogo!\n",
      "Ganhou!\n",
      "Ganhou!\n",
      "Ganhou!\n",
      "Ganhou!\n",
      "Ganhou!\n",
      "Fim de jogo!\n",
      "Fim de jogo!\n",
      "Ganhou!\n",
      "Fim de jogo!\n",
      "Ganhou!\n",
      "Ganhou!\n",
      "Ganhou!\n",
      "Fim de jogo!\n",
      "Ganhou!\n",
      "Ganhou!\n",
      "Ganhou!\n",
      "Ganhou!\n",
      "Fim de jogo!\n",
      "Ganhou!\n",
      "Ganhou!\n",
      "Ganhou!\n",
      "Fim de jogo!\n",
      "Ganhou!\n",
      "Ganhou!\n",
      "Ganhou!\n",
      "Fim de jogo!\n",
      "Fim de jogo!\n",
      "Ganhou!\n",
      "Ganhou!\n",
      "Ganhou!\n",
      "Ganhou!\n",
      "Fim de jogo!\n",
      "Ganhou!\n",
      "Ganhou!\n",
      "Ganhou!\n",
      "Fim de jogo!\n",
      "Ganhou!\n",
      "Ganhou!\n",
      "Ganhou!\n",
      "Fim de jogo!\n",
      "Ganhou!\n",
      "Ganhou!\n",
      "Ganhou!\n",
      "Taxa de vitória do jogador automático: 70.00% em 100 jogos\n"
     ]
    }
   ],
   "source": [
    "# Executa múltiplas partidas e calcula a taxa de vitória\n",
    "num_jogos = 100\n",
    "vitorias = 0\n",
    "\n",
    "for _ in range(num_jogos):\n",
    "    jogo = JogoDeForca()  # Reinicia o jogo\n",
    "    if jogador.jogar(jogo):  # Joga a partida\n",
    "        vitorias += 1\n",
    "\n",
    "taxa_vitoria = (vitorias / num_jogos) * 100\n",
    "print(f\"Taxa de vitória do jogador automático: {taxa_vitoria:.2f}% em {num_jogos} jogos\")\n"
   ]
  }
 ],
 "metadata": {
  "kernelspec": {
   "display_name": "Python 3",
   "language": "python",
   "name": "python3"
  },
  "language_info": {
   "codemirror_mode": {
    "name": "ipython",
    "version": 3
   },
   "file_extension": ".py",
   "mimetype": "text/x-python",
   "name": "python",
   "nbconvert_exporter": "python",
   "pygments_lexer": "ipython3",
   "version": "3.11.8"
  }
 },
 "nbformat": 4,
 "nbformat_minor": 2
}
